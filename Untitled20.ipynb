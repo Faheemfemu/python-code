{
 "cells": [
  {
   "cell_type": "code",
   "execution_count": 11,
   "metadata": {},
   "outputs": [],
   "source": [
    "class vehical():\n",
    "    def __init__(self,millege,cost):\n",
    "        self.millege=millege\n",
    "        self.cost=cost\n",
    "    def show_details(self):\n",
    "        print('millege of vehical',self.millege)\n",
    "        print('cost of vehical',self.cost)\n",
    "        print('i am a vehical')"
   ]
  },
  {
   "cell_type": "code",
   "execution_count": 12,
   "metadata": {},
   "outputs": [],
   "source": [
    "v1=vehical(400,500)"
   ]
  },
  {
   "cell_type": "code",
   "execution_count": 13,
   "metadata": {},
   "outputs": [
    {
     "name": "stdout",
     "output_type": "stream",
     "text": [
      "millege of vehical 400\n",
      "cost of vehical 500\n",
      "i am a vehical\n"
     ]
    }
   ],
   "source": [
    "v1.show_details()"
   ]
  },
  {
   "cell_type": "code",
   "execution_count": 49,
   "metadata": {},
   "outputs": [],
   "source": [
    "class car(vehical):\n",
    "    def show_car_details(self):\n",
    "     print('i am a car')\n",
    "   "
   ]
  },
  {
   "cell_type": "code",
   "execution_count": 50,
   "metadata": {},
   "outputs": [],
   "source": [
    "c1=car(200,300)"
   ]
  },
  {
   "cell_type": "code",
   "execution_count": 52,
   "metadata": {},
   "outputs": [
    {
     "name": "stdout",
     "output_type": "stream",
     "text": [
      "i am a car\n"
     ]
    }
   ],
   "source": [
    "c1.show_car_details()"
   ]
  },
  {
   "cell_type": "code",
   "execution_count": 19,
   "metadata": {},
   "outputs": [
    {
     "name": "stdout",
     "output_type": "stream",
     "text": [
      "millege of vehical 200\n",
      "cost of vehical 300\n",
      "i am a vehical\n"
     ]
    }
   ],
   "source": [
    "c1.show_details()"
   ]
  },
  {
   "cell_type": "code",
   "execution_count": 20,
   "metadata": {},
   "outputs": [],
   "source": [
    "#overriding init method"
   ]
  },
  {
   "cell_type": "code",
   "execution_count": 28,
   "metadata": {},
   "outputs": [],
   "source": [
    "class car(vehical):\n",
    "    def __init__(self,millege,cost,tyres,hp):\n",
    "        super().__init__(millege,cost)\n",
    "        self.tyres=tyres\n",
    "        self.hp=hp\n",
    "    def show_car_details(self):\n",
    "        print('i am a car')\n",
    "        print('number of tyres are',self.tyres)\n",
    "        print('the horse power is',self.hp)"
   ]
  },
  {
   "cell_type": "code",
   "execution_count": 34,
   "metadata": {},
   "outputs": [],
   "source": [
    "c1 = car(200,300,4,450)"
   ]
  },
  {
   "cell_type": "code",
   "execution_count": 39,
   "metadata": {},
   "outputs": [
    {
     "name": "stdout",
     "output_type": "stream",
     "text": [
      "millege of vehical 200\n",
      "cost of vehical 300\n",
      "i am a vehical\n"
     ]
    }
   ],
   "source": [
    "c1.show_details()"
   ]
  },
  {
   "cell_type": "code",
   "execution_count": 37,
   "metadata": {},
   "outputs": [
    {
     "name": "stdout",
     "output_type": "stream",
     "text": [
      "i am a car\n",
      "number of tyres are 4\n",
      "the horse power is 450\n"
     ]
    }
   ],
   "source": [
    "c1.show_car_details()"
   ]
  },
  {
   "cell_type": "code",
   "execution_count": null,
   "metadata": {},
   "outputs": [],
   "source": []
  }
 ],
 "metadata": {
  "kernelspec": {
   "display_name": "Python 3",
   "language": "python",
   "name": "python3"
  },
  "language_info": {
   "codemirror_mode": {
    "name": "ipython",
    "version": 3
   },
   "file_extension": ".py",
   "mimetype": "text/x-python",
   "name": "python",
   "nbconvert_exporter": "python",
   "pygments_lexer": "ipython3",
   "version": "3.8.3"
  }
 },
 "nbformat": 4,
 "nbformat_minor": 4
}
