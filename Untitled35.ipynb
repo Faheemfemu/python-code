{
 "cells": [
  {
   "cell_type": "code",
   "execution_count": 4,
   "metadata": {},
   "outputs": [
    {
     "name": "stdout",
     "output_type": "stream",
     "text": [
      "array('i', [1, 2, 3, 4, 5])\n"
     ]
    }
   ],
   "source": [
    "import array as arr\n",
    "myarr1 = arr.array('i',[1,2,3,4,5])\n",
    "print(myarr1)\n",
    "def accessElement(array,index):\n",
    "    if index >= len(array):\n",
    "        print('there is not element in this index')\n",
    "    else:\n",
    "        print(array[index])\n",
    "        accessElement(myarr1, 2)"
   ]
  },
  {
   "cell_type": "code",
   "execution_count": 6,
   "metadata": {},
   "outputs": [],
   "source": [
    "def accessElement(array,index):\n",
    "    if index >= len(array):\n",
    "        print('there is not element in this index')\n",
    "    else:\n",
    "        print(array[index])\n",
    "        accessElement(myarr1, 3)"
   ]
  },
  {
   "cell_type": "code",
   "execution_count": null,
   "metadata": {},
   "outputs": [],
   "source": []
  }
 ],
 "metadata": {
  "kernelspec": {
   "display_name": "Python 3",
   "language": "python",
   "name": "python3"
  },
  "language_info": {
   "codemirror_mode": {
    "name": "ipython",
    "version": 3
   },
   "file_extension": ".py",
   "mimetype": "text/x-python",
   "name": "python",
   "nbconvert_exporter": "python",
   "pygments_lexer": "ipython3",
   "version": "3.8.3"
  }
 },
 "nbformat": 4,
 "nbformat_minor": 4
}
