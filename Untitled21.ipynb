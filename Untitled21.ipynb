{
 "cells": [
  {
   "cell_type": "code",
   "execution_count": 1,
   "metadata": {},
   "outputs": [],
   "source": [
    "class father():\n",
    "    def __init__(self,name,age,):\n",
    "        self.name=name\n",
    "        self.age=age\n",
    "    def show_details(self):\n",
    "        print('i am a father',self)\n",
    "        print('name',self.name)\n",
    "        print('age',self.age)"
   ]
  },
  {
   "cell_type": "code",
   "execution_count": 3,
   "metadata": {},
   "outputs": [],
   "source": [
    "c1=father('femu',45)"
   ]
  },
  {
   "cell_type": "code",
   "execution_count": 4,
   "metadata": {},
   "outputs": [
    {
     "name": "stdout",
     "output_type": "stream",
     "text": [
      "i am a father <__main__.father object at 0x00000204AC03F1F0>\n",
      "name femu\n",
      "age 45\n"
     ]
    }
   ],
   "source": [
    "c1.show_details()"
   ]
  },
  {
   "cell_type": "code",
   "execution_count": 10,
   "metadata": {},
   "outputs": [],
   "source": [
    "class mom():\n",
    "     def __init__(self,name,age,):\n",
    "        self.name=name\n",
    "        self.age=age\n",
    "     def show_details(self):\n",
    "        print('i am a mom',self)\n",
    "        print('name',self.name)\n",
    "        print('age',self.age)\n",
    "    "
   ]
  },
  {
   "cell_type": "code",
   "execution_count": 11,
   "metadata": {},
   "outputs": [],
   "source": [
    "c2=mom('mari',40)"
   ]
  },
  {
   "cell_type": "code",
   "execution_count": 18,
   "metadata": {},
   "outputs": [
    {
     "name": "stdout",
     "output_type": "stream",
     "text": [
      "i am a mom <__main__.mom object at 0x00000204AC052430>\n",
      "name mari\n",
      "age 40\n"
     ]
    }
   ],
   "source": [
    "c2.show_details()"
   ]
  },
  {
   "cell_type": "code",
   "execution_count": 19,
   "metadata": {},
   "outputs": [],
   "source": [
    "class boy(father,mom):\n",
    "     def __init__(self,name,age,):\n",
    "        self.name=name\n",
    "        self.age=age\n",
    "     def show_details(self):\n",
    "        print('i am a boy',self)\n",
    "        print('name',self.name)\n",
    "        print('age',self.age)\n",
    "    \n",
    "    "
   ]
  },
  {
   "cell_type": "code",
   "execution_count": 15,
   "metadata": {},
   "outputs": [],
   "source": [
    "c3=boy('john',20)"
   ]
  },
  {
   "cell_type": "code",
   "execution_count": 16,
   "metadata": {},
   "outputs": [
    {
     "name": "stdout",
     "output_type": "stream",
     "text": [
      "i am a boy <__main__.boy object at 0x00000204AC052BB0>\n",
      "name john\n",
      "age 20\n"
     ]
    }
   ],
   "source": [
    "c3.show_details()"
   ]
  },
  {
   "cell_type": "code",
   "execution_count": 17,
   "metadata": {},
   "outputs": [],
   "source": [
    "#multilevelinheritace"
   ]
  },
  {
   "cell_type": "code",
   "execution_count": 20,
   "metadata": {},
   "outputs": [],
   "source": [
    "class Perent():\n",
    "    def assign_name(self,name):\n",
    "        self.name=name\n",
    "    def show_name() :\n",
    "        print('name',self.name)"
   ]
  },
  {
   "cell_type": "code",
   "execution_count": 29,
   "metadata": {},
   "outputs": [],
   "source": [
    "class Child(perent):\n",
    "    def assign_age(self,age):\n",
    "        self.age=age\n",
    "    def show_age() :\n",
    "        print('age',self.age)"
   ]
  },
  {
   "cell_type": "code",
   "execution_count": 44,
   "metadata": {},
   "outputs": [],
   "source": [
    "class Grandchild(child):\n",
    "     def assign_gender(self,gender):\n",
    "        self.gender=gender\n",
    "     def show_gender() :\n",
    "        print('gender',self.gender)"
   ]
  },
  {
   "cell_type": "code",
   "execution_count": 45,
   "metadata": {},
   "outputs": [],
   "source": [
    "g2= Grandchild()"
   ]
  },
  {
   "cell_type": "code",
   "execution_count": 46,
   "metadata": {},
   "outputs": [],
   "source": [
    "g2.assign_name('anna')\n",
    "g2.assign_age(12)\n",
    "g2.assign_gender('female')"
   ]
  },
  {
   "cell_type": "code",
   "execution_count": 47,
   "metadata": {},
   "outputs": [
    {
     "ename": "AttributeError",
     "evalue": "'Grandchild' object has no attribute 'show_name'",
     "output_type": "error",
     "traceback": [
      "\u001b[1;31m---------------------------------------------------------------------------\u001b[0m",
      "\u001b[1;31mAttributeError\u001b[0m                            Traceback (most recent call last)",
      "\u001b[1;32m<ipython-input-47-87891938c9f4>\u001b[0m in \u001b[0;36m<module>\u001b[1;34m\u001b[0m\n\u001b[1;32m----> 1\u001b[1;33m \u001b[0mg2\u001b[0m\u001b[1;33m.\u001b[0m\u001b[0mshow_name\u001b[0m\u001b[1;33m(\u001b[0m\u001b[1;33m)\u001b[0m\u001b[1;33m\u001b[0m\u001b[1;33m\u001b[0m\u001b[0m\n\u001b[0m",
      "\u001b[1;31mAttributeError\u001b[0m: 'Grandchild' object has no attribute 'show_name'"
     ]
    }
   ],
   "source": [
    "g2.show_name()"
   ]
  },
  {
   "cell_type": "code",
   "execution_count": null,
   "metadata": {},
   "outputs": [],
   "source": []
  }
 ],
 "metadata": {
  "kernelspec": {
   "display_name": "Python 3",
   "language": "python",
   "name": "python3"
  },
  "language_info": {
   "codemirror_mode": {
    "name": "ipython",
    "version": 3
   },
   "file_extension": ".py",
   "mimetype": "text/x-python",
   "name": "python",
   "nbconvert_exporter": "python",
   "pygments_lexer": "ipython3",
   "version": "3.8.3"
  }
 },
 "nbformat": 4,
 "nbformat_minor": 4
}
